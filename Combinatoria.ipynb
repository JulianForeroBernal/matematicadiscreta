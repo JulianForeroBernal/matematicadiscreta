{
  "nbformat": 4,
  "nbformat_minor": 0,
  "metadata": {
    "colab": {
      "provenance": [],
      "collapsed_sections": [
        "PpDkuIbRWLXm",
        "VaP8DFk7XGHW",
        "ul9t2acLfBCU",
        "vOtTVX1pYwn1",
        "Ovuy2llqfGo-",
        "XMxP3wwzfKi1",
        "WCICNMOhhNns"
      ],
      "include_colab_link": true
    },
    "kernelspec": {
      "name": "python3",
      "display_name": "Python 3"
    },
    "language_info": {
      "name": "python"
    }
  },
  "cells": [
    {
      "cell_type": "markdown",
      "metadata": {
        "id": "view-in-github",
        "colab_type": "text"
      },
      "source": [
        "<a href=\"https://colab.research.google.com/github/JulianForeroBernal/matematicadiscreta/blob/main/Combinatoria.ipynb\" target=\"_parent\"><img src=\"https://colab.research.google.com/assets/colab-badge.svg\" alt=\"Open In Colab\"/></a>"
      ]
    },
    {
      "cell_type": "markdown",
      "source": [
        "Instalación de paquetes necesarios para exportar el PDF"
      ],
      "metadata": {
        "id": "XcZ7fwwdkvk9"
      }
    },
    {
      "cell_type": "markdown",
      "source": [],
      "metadata": {
        "id": "ZW6KPkwZskc3"
      }
    },
    {
      "cell_type": "markdown",
      "source": [
        "#**ACTIVIDAD: ENUMERANDO EVENTOS**\n",
        "Conformar equipos de trabajo con 4 integrantes para desarrollar las actividades propuestas.\n",
        "\n",
        "### 1. ¿De cuántas maneras es posible seleccionar tres letras de un conjunto de 5? Use las letras (A, B, C, D, E).\n",
        "\n"
      ],
      "metadata": {
        "id": "N6WAMUqBQ3sH"
      }
    },
    {
      "cell_type": "markdown",
      "source": [
        "Inserte la imagen de evidencia del cuaderno en este apartado,   \n",
        "dando doble click"
      ],
      "metadata": {
        "id": "YopqXl4TVBWK"
      }
    },
    {
      "cell_type": "code",
      "source": [
        "# en este apartado inserte la funcion que requiera, copiando el codigo del final del notebook y ejecutelo para comprobar el resultado.\n"
      ],
      "metadata": {
        "id": "LMGDHHxFVya4"
      },
      "execution_count": null,
      "outputs": []
    },
    {
      "cell_type": "markdown",
      "source": [
        "### 2. Considere el experimento de lanzar tres monedas.\n",
        "a. Elabore un diagrama de árbol de este experimento.   \n",
        "b. Enumere los resultados del experimento."
      ],
      "metadata": {
        "id": "CS4BUKTrTdEz"
      }
    },
    {
      "cell_type": "markdown",
      "source": [
        "Inserte la imagen de evidencia del cuaderno en este apartado,   \n",
        "dando doble click"
      ],
      "metadata": {
        "id": "mrQO45-MVDVX"
      }
    },
    {
      "cell_type": "code",
      "source": [
        "# en este apartado inserte la funcion que requiera, copiando el codigo del final del notebook y ejecutelo para comprobar el resultado.\n"
      ],
      "metadata": {
        "id": "6bXMrFzmV1Aj"
      },
      "execution_count": null,
      "outputs": []
    },
    {
      "cell_type": "markdown",
      "source": [
        "###3. El equipo de futbol de la Universidad de Cundinamarca juega 10 partidos de entrenamiento ¿En cuántas formas se termina la temporada de entrenamiento con cinco juegos ganados, tres perdidos y dos empates?"
      ],
      "metadata": {
        "id": "d-oEIhpkTtXO"
      }
    },
    {
      "cell_type": "markdown",
      "source": [
        "Inserte la imagen de evidencia del cuaderno en este apartado,   \n",
        "dando doble click"
      ],
      "metadata": {
        "id": "mvThX63VVEoJ"
      }
    },
    {
      "cell_type": "code",
      "source": [
        "# en este apartado inserte la funcion que requiera, copiando el codigo del final del notebook y ejecutelo para comprobar el resultado.\n"
      ],
      "metadata": {
        "id": "YJjEbtxDV2NF"
      },
      "execution_count": null,
      "outputs": []
    },
    {
      "cell_type": "markdown",
      "source": [
        "### 4. ¿Cuántos números de cuatro cifras **distintas** se pueden formar con las cifras impares?\n",
        "###¿Cuántos de ellos son mayores de 4000?"
      ],
      "metadata": {
        "id": "p4lhHxdWT3wS"
      }
    },
    {
      "cell_type": "markdown",
      "source": [
        "Inserte la imagen de evidencia del cuaderno en este apartado,   \n",
        "dando doble click"
      ],
      "metadata": {
        "id": "IJQRjon7VH-J"
      }
    },
    {
      "cell_type": "code",
      "source": [
        "# en este apartado inserte la funcion que requiera, copiando el codigo del final del notebook y ejecutelo para comprobar el resultado.\n"
      ],
      "metadata": {
        "id": "n0TCx0K2V3kG"
      },
      "execution_count": null,
      "outputs": []
    },
    {
      "cell_type": "markdown",
      "source": [
        "### 5. De un total de 6 Ingenieros Electrónicos y 5 ingenieros de Sistemas, se forman un comité de 3 Electrónicos y 2 de Sistemas. ¿De cuantas formas puede formarse, si\n",
        "A. Puede pertenecer cualquier Ingeniero electrónico y cualquier ingeniero de Sistemas.\n",
        "\n",
        "B. Un ingeniero de Sistemas determinado debe pertenecer al comité"
      ],
      "metadata": {
        "id": "D5axQOPeUJqI"
      }
    },
    {
      "cell_type": "markdown",
      "source": [
        "Inserte la imagen de evidencia del cuaderno en este apartado,   \n",
        "dando doble click"
      ],
      "metadata": {
        "id": "khoK9YT4VJr0"
      }
    },
    {
      "cell_type": "code",
      "source": [
        "# en este apartado inserte la funcion que requiera, copiando el codigo del final del notebook y ejecutelo para comprobar el resultado.\n"
      ],
      "metadata": {
        "id": "ZU-ktkTKV46w"
      },
      "execution_count": null,
      "outputs": []
    },
    {
      "cell_type": "markdown",
      "source": [
        "### 6. Encuentre el número de permutaciones que pueden formarse con todas las letras de cada palabra:\n",
        "a) INGENIERIA\n",
        "\n",
        "b) SASSAFFRAN"
      ],
      "metadata": {
        "id": "nQZlMF9-UeP3"
      }
    },
    {
      "cell_type": "markdown",
      "source": [
        "Inserte la imagen de evidencia del cuaderno en este apartado,   \n",
        "dando doble click"
      ],
      "metadata": {
        "id": "cnFwVz-IVLQF"
      }
    },
    {
      "cell_type": "code",
      "source": [
        "# en este apartado inserte la funcion que requiera, copiando el codigo del final del notebook y ejecutelo para comprobar el resultado.\n"
      ],
      "metadata": {
        "id": "QTq1Y4MwV6G6"
      },
      "execution_count": null,
      "outputs": []
    },
    {
      "cell_type": "markdown",
      "source": [
        "### 7. Cada grupo debe construir un crucigrama con 6 preguntas verticales y 6 preguntas horizontales en excel. Estos crucigramas se intercambiarán con los diferentes grupos para luego solucionarlos."
      ],
      "metadata": {
        "id": "T8B_ypI_UCSo"
      }
    },
    {
      "cell_type": "markdown",
      "source": [
        "Inserte la imagen de evidencia del cuaderno en este apartado,   \n",
        "dando doble click"
      ],
      "metadata": {
        "id": "ybpI09-nSvLI"
      }
    },
    {
      "cell_type": "code",
      "source": [
        "# en este apartado inserte la funcion que requiera, copiando el codigo del final del notebook y ejecutelo para comprobar el resultado.\n"
      ],
      "metadata": {
        "id": "OlcWxsKzV7K_"
      },
      "execution_count": null,
      "outputs": []
    },
    {
      "cell_type": "markdown",
      "source": [
        "## EN EL SIGUIENTE APARTADO ENCONTRARA LAS FUNCIONES CON CADA UNO DE LAS FORMULAS CORRESPONDIENTES PARA USARLA EN CADA UNO DE LOS EJERCICIOS SEGUN CORRESPONDA. SOLO DEBE COPIARLA Y PERGARLA EN LA PARTE FINAL DE CADA PUNTO."
      ],
      "metadata": {
        "id": "XHlFXVz2Veqc"
      }
    },
    {
      "cell_type": "markdown",
      "source": [
        "###PERMUTACIONES SIN REPETICIÓN\n",
        "$P(n)=n!$"
      ],
      "metadata": {
        "id": "PpDkuIbRWLXm"
      }
    },
    {
      "cell_type": "code",
      "source": [
        "from math import factorial\n",
        "\n",
        "def calcular_permutaciones(n):\n",
        "    \"\"\"\n",
        "    Calcula el número total de permutaciones sin repetición de n elementos.\n",
        "    Fórmula: P(n) = n!\n",
        "    \"\"\"\n",
        "    return factorial(n)\n",
        "\n",
        "# Solicitar valores al usuario\n",
        "n = int(input(\"Ingrese el número total de elementos (n): \"))\n",
        "\n",
        "# Calcular y mostrar el resultado\n",
        "resultado = calcular_permutaciones(n)\n",
        "print(f\"El número total de permutaciones sin repetición es: {resultado}\")\n"
      ],
      "metadata": {
        "id": "EFgDTSCUeje8"
      },
      "execution_count": null,
      "outputs": []
    },
    {
      "cell_type": "markdown",
      "source": [
        "###PERMUTACIÓN CON REPETICIÓN\n",
        "$P(n;a_1,a_2,...,a_k)=\\frac{n!}{a_1!\\times a_2!\\times ,...,\\times a_k!}$"
      ],
      "metadata": {
        "id": "VaP8DFk7XGHW"
      }
    },
    {
      "cell_type": "code",
      "source": [
        "from math import factorial\n",
        "\n",
        "def calcular_permutaciones_con_repeticion(n, repeticiones):\n",
        "    \"\"\"\n",
        "    Calcula permutaciones con repetición según la fórmula:\n",
        "    P(n; a1, a2, ..., ak) = n! / (a1! * a2! * ... * ak!)\n",
        "    \"\"\"\n",
        "    denominador = 1\n",
        "    for r in repeticiones:\n",
        "        denominador *= factorial(r)\n",
        "\n",
        "    return factorial(n) // denominador\n",
        "\n",
        "# Solicitar valores al usuario\n",
        "n = int(input(\"Ingrese el número total de elementos (n): \"))\n",
        "k = int(input(\"Ingrese la cantidad de elementos repetidos: \"))\n",
        "\n",
        "repeticiones = []\n",
        "for i in range(k):\n",
        "    r = int(input(f\"Ingrese la cantidad de veces que se repite el elemento {i+1}: \"))\n",
        "    repeticiones.append(r)\n",
        "\n",
        "# Calcular y mostrar el resultado\n",
        "resultado = calcular_permutaciones_con_repeticion(n, repeticiones)\n",
        "print(f\"El número de permutaciones con repetición es: {resultado}\")\n"
      ],
      "metadata": {
        "id": "pffiuMAgXJZk"
      },
      "execution_count": null,
      "outputs": []
    },
    {
      "cell_type": "markdown",
      "source": [
        "###VARIACIÓN SIN REPETICIÓN\n",
        "$V(n,r)=\\frac{n!}{(n-r)!}$"
      ],
      "metadata": {
        "id": "ul9t2acLfBCU"
      }
    },
    {
      "cell_type": "code",
      "source": [
        "from math import factorial\n",
        "\n",
        "def calcular_permutaciones(n, r):\n",
        "    \"\"\"\n",
        "    Calcula el número de permutaciones sin repetición P(n, r).\n",
        "    Fórmula: P(n, r) = n! / (n - r)!\n",
        "    \"\"\"\n",
        "    if r > n:\n",
        "        return \"r no puede ser mayor que n\"\n",
        "    return factorial(n) // factorial(n - r)\n",
        "\n",
        "# Solicitar valores al usuario\n",
        "n = int(input(\"Ingrese el número total de elementos (n): \"))\n",
        "r = int(input(\"Ingrese la cantidad de elementos a ordenar (r): \"))\n",
        "\n",
        "# Calcular y mostrar el resultado\n",
        "resultado = calcular_permutaciones(n, r)\n",
        "print(f\"El número de permutaciones sin repetición es: {resultado}\")\n"
      ],
      "metadata": {
        "id": "Iq-5HME3erN7"
      },
      "execution_count": null,
      "outputs": []
    },
    {
      "cell_type": "markdown",
      "source": [],
      "metadata": {
        "id": "usIp3G_Wj-yl"
      }
    },
    {
      "cell_type": "markdown",
      "source": [
        "###VARIACIÓN CON REPETICIÓN\n",
        "$V(n,r)=n^2$"
      ],
      "metadata": {
        "id": "vOtTVX1pYwn1"
      }
    },
    {
      "cell_type": "code",
      "source": [
        "def calcular_variaciones_con_repeticion(n, r):\n",
        "    \"\"\"\n",
        "    Calcula el número de variaciones con repetición\n",
        "    \"\"\"\n",
        "    return n ** r\n",
        "\n",
        "# Solicitar valores al usuario\n",
        "n = int(input(\"Ingrese el número total de elementos disponibles (n): \"))\n",
        "r = int(input(\"Ingrese la cantidad de elementos a ordenar (r): \"))\n",
        "\n",
        "# Calcular y mostrar el resultado\n",
        "resultado = calcular_variaciones_con_repeticion(n, r)\n",
        "print(f\"El número de variaciones con repetición es: {resultado}\")\n"
      ],
      "metadata": {
        "id": "nK1PY3O7Z3JT"
      },
      "execution_count": null,
      "outputs": []
    },
    {
      "cell_type": "markdown",
      "source": [
        "###COMBINACIÓN SIN REPETICIÓN\n",
        "$C(n,r)=\\frac{\n",
        "n!}{r!(n−r)!}$"
      ],
      "metadata": {
        "id": "Ovuy2llqfGo-"
      }
    },
    {
      "cell_type": "code",
      "source": [
        "from math import comb\n",
        "\n",
        "def combinaciones_sin_repeticion(n, r):\n",
        "    \"\"\"\n",
        "    Calcula combinaciones sin repetición usando la fórmula:\n",
        "    C(n, r) = n! / (r!(n-r)!)\n",
        "    \"\"\"\n",
        "    return comb(n, r)\n",
        "\n",
        "# Valores del problema\n",
        "# Ejemplo de uso\n",
        "n = int(input(\"Ingrese el número de elementos disponibles (n): \"))\n",
        "r = int(input(\"Ingrese la cantidad de elementos a seleccionar (r): \"))\n",
        "\n",
        "resultado = combinaciones_sin_repeticion(n, r)\n",
        "print(f\"La cantidad de formas de seleccionar {r} de {n} elementos es: {resultado}\")\n",
        "\n"
      ],
      "metadata": {
        "id": "dk8EYJITcyVH"
      },
      "execution_count": null,
      "outputs": []
    },
    {
      "cell_type": "markdown",
      "source": [
        "###COMBINACIÓN CON REPETICIÓN\n",
        "\n",
        "$n CR_r=\\frac{(n+r-1)!}{r!\\times (n-1)!}$"
      ],
      "metadata": {
        "id": "XMxP3wwzfKi1"
      }
    },
    {
      "cell_type": "code",
      "source": [
        "from math import comb\n",
        "\n",
        "def combinaciones_con_repeticion(n, r):\n",
        "    \"\"\"\n",
        "    Calcula combinaciones con repetición usando la fórmula:\n",
        "    C(n+r-1, r) = (n+r-1)! / (r!(n-1)!)\n",
        "    \"\"\"\n",
        "    return comb(n + r - 1, r)\n",
        "\n",
        "# Ejemplo de uso\n",
        "n = int(input(\"Ingrese el número de elementos disponibles (n): \"))\n",
        "r = int(input(\"Ingrese la cantidad de elementos a seleccionar (r): \"))\n",
        "\n",
        "resultado = combinaciones_con_repeticion(n, r)\n",
        "print(f\"El número de combinaciones con repetición de {n} elementos tomados de {r} en {r} es: {resultado}\")\n"
      ],
      "metadata": {
        "id": "4XfxMRgWj7qr"
      },
      "execution_count": null,
      "outputs": []
    },
    {
      "cell_type": "markdown",
      "source": [
        "###VARIACIÓN CON REPETICIÓN MULTIPLES GRUPOS DE n"
      ],
      "metadata": {
        "id": "WCICNMOhhNns"
      }
    },
    {
      "cell_type": "code",
      "source": [
        "def calcular_variaciones_con_repeticion(n, r):\n",
        "    \"\"\"\n",
        "    Calcula el número de variaciones con repetición según la fórmula:\n",
        "    V(n, r) = n^r\n",
        "    \"\"\"\n",
        "    return n ** r\n",
        "\n",
        "# Solicitar cantidad de grupos de (n, r)\n",
        "num_grupos = int(input(\"Ingrese la cantidad de grupos de n y r que desea calcular: \"))\n",
        "\n",
        "resultados = []\n",
        "total_variaciones = 1  # Inicializamos en 1 porque vamos a multiplicar\n",
        "\n",
        "for i in range(num_grupos):\n",
        "    print(f\"\\nGrupo {i+1}:\")\n",
        "    n = int(input(\"Ingrese el número total de elementos disponibles (n): \"))\n",
        "    r = int(input(\"Ingrese la cantidad de elementos a ordenar (r): \"))\n",
        "    resultado = calcular_variaciones_con_repeticion(n, r)\n",
        "    resultados.append((n, r, resultado))\n",
        "    total_variaciones *= resultado  # Multiplicar en lugar de sumar\n",
        "\n",
        "# Mostrar resultados individuales\n",
        "print(\"\\nResultados:\")\n",
        "for i, (n, r, resultado) in enumerate(resultados, start=1):\n",
        "    print(f\"Grupo {i}: V({n}, {r}) = {resultado}\")\n",
        "\n",
        "# Mostrar resultado total multiplicado\n",
        "print(f\"\\nTotal de combinaciones posibles considerando todos los grupos: {total_variaciones}\")\n"
      ],
      "metadata": {
        "id": "H-oy-H8uf05E"
      },
      "execution_count": null,
      "outputs": []
    },
    {
      "cell_type": "markdown",
      "source": [
        "###COMBINACION CON REPETICIÓN MULTIPLES GRUPOS DE n"
      ],
      "metadata": {
        "id": "I12-EbaUffT1"
      }
    },
    {
      "cell_type": "code",
      "source": [
        "from math import comb\n",
        "\n",
        "def combinacion_repeticion(grupos):\n",
        "    \"\"\"\n",
        "    grupos: Lista de tuplas donde cada tupla (n, r) representa\n",
        "            un grupo con n elementos disponibles y r elementos a seleccionar.\n",
        "    Retorna el producto de todas las combinaciones sin repetición.\n",
        "    \"\"\"\n",
        "    total_formas = 1  # Empezamos con 1 porque vamos a multiplicar\n",
        "    for n, r in grupos:\n",
        "        total_formas *= comb(n, r)  # Multiplica las combinaciones de cada grupo\n",
        "    return total_formas\n",
        "\n",
        "# Solicitar el número de conjuntos (grupos de selección)\n",
        "num_grupos = int(input(\"Ingrese la cantidad de conjuntos (n, r) que desea calcular: \"))\n",
        "\n",
        "# Lista para almacenar los valores de (n, r)\n",
        "grupos = []\n",
        "\n",
        "# Solicitar los valores de n y r para cada grupo a evaluar\n",
        "for i in range(num_grupos):\n",
        "    n = int(input(f\"Ingrese el número total de elementos para el conjunto {i+1} (n): \"))\n",
        "    r = int(input(f\"Ingrese la cantidad de elementos a seleccionar en el conjunto {i+1} (r): \"))\n",
        "    grupos.append((n, r))\n",
        "\n",
        "# Calcular el total de formas\n",
        "resultado = combinacion_repeticion(grupos)\n",
        "\n",
        "# Mostrar el resultado\n",
        "print(f\"La cantidad total de combinaciones con repeticion es: {resultado}\")\n"
      ],
      "metadata": {
        "id": "dv7W-296diFr"
      },
      "execution_count": null,
      "outputs": []
    },
    {
      "cell_type": "code",
      "source": [],
      "metadata": {
        "id": "uDVRI9HNssKr"
      },
      "execution_count": null,
      "outputs": []
    }
  ]
}