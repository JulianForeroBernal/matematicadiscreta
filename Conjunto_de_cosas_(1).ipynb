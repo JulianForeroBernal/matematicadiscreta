{
  "nbformat": 4,
  "nbformat_minor": 0,
  "metadata": {
    "colab": {
      "provenance": [],
      "include_colab_link": true
    },
    "kernelspec": {
      "name": "python3",
      "display_name": "Python 3"
    },
    "language_info": {
      "name": "python"
    }
  },
  "cells": [
    {
      "cell_type": "markdown",
      "metadata": {
        "id": "view-in-github",
        "colab_type": "text"
      },
      "source": [
        "<a href=\"https://colab.research.google.com/github/JulianForeroBernal/matematicadiscreta/blob/main/Conjunto_de_cosas_(1).ipynb\" target=\"_parent\"><img src=\"https://colab.research.google.com/assets/colab-badge.svg\" alt=\"Open In Colab\"/></a>"
      ]
    },
    {
      "cell_type": "code",
      "source": [
        "pip install matplotlib-venn"
      ],
      "metadata": {
        "id": "lfWa8YbNInY4"
      },
      "execution_count": null,
      "outputs": []
    },
    {
      "cell_type": "code",
      "source": [
        "pip install matplotlib-venn[shapely]"
      ],
      "metadata": {
        "id": "AJvHmAFUI4Mp"
      },
      "execution_count": null,
      "outputs": []
    },
    {
      "cell_type": "markdown",
      "source": [
        "#**ACTIVIDAD: CONJUNTO DE COSAS\n",
        "\n",
        "### 1)\tEn un bar trabajan 32 artistas. De estos, 16 bailan, 25 cantan y 12 cantan y bailan.\n",
        "Contestar\n",
        "\n",
        "a)\tEI número de artistas que no cantan ni bailan es:\n",
        "\n",
        "b)\tRepresenta este problema mediante un Diagrama de Venn\n"
      ],
      "metadata": {
        "id": "qJyQ-MQnGbuX"
      }
    },
    {
      "cell_type": "markdown",
      "source": [
        "###Aquí va la imagen del cuaderno"
      ],
      "metadata": {
        "id": "OehRw3_dO-T8"
      }
    },
    {
      "cell_type": "code",
      "source": [
        "#Aqui el codigo"
      ],
      "metadata": {
        "id": "rKBiY5ziJo93"
      },
      "execution_count": null,
      "outputs": []
    },
    {
      "cell_type": "markdown",
      "source": [
        "### 2)\tEn un aula de 75 alumnos a 5 no les gusta ni álgebra ni geometría, y a 45 les gusta sólo geometría,\n",
        "Contestar\n",
        "\n",
        "a)\t¿a cuántos les gusta sólo álgebra, si a 15 alumnos les gusta ambos cursos?\n",
        "\n",
        "b)\tRepresenta este problema mediante un Diagrama de Venn"
      ],
      "metadata": {
        "id": "DEgBwhXDHMWF"
      }
    },
    {
      "cell_type": "markdown",
      "source": [
        "###Aquí va la imagen del cuaderno"
      ],
      "metadata": {
        "id": "ScDDPQ1xPKoE"
      }
    },
    {
      "cell_type": "code",
      "source": [
        "#Aqui el codigo"
      ],
      "metadata": {
        "id": "mS48aAlLJreh"
      },
      "execution_count": null,
      "outputs": []
    },
    {
      "cell_type": "markdown",
      "source": [
        "### 3)\tSe ha realizado una encuesta sobre la preferencia de desayuno a 30 personas de los cuales se obtuvo lo siguiente:\n",
        "15 de ellos les gusta solo leche en el desayuno.\n",
        "\n",
        "De los que prefieren solo café, son en cantidad igual a los que no prefieren ni café ni leche, de los cuales son 6.\n",
        "\n",
        "Contestar\n",
        "\n",
        "a)\t¿Cuántas personas les gusta para el desayuno café con leche?\n",
        "\n",
        "b)\t¿Cuántas personas les gusta para el desayuno café o leche?\n",
        "\n",
        "c)\t¿Cuántas personas les gusta en el desayuno, leche?\n",
        "\n",
        "d)\tRepresenta este problema mediante un Diagrama de Venn\n",
        "\n",
        "\n",
        "\n"
      ],
      "metadata": {
        "id": "LVEW8_LOHSG8"
      }
    },
    {
      "cell_type": "markdown",
      "source": [
        "###Aquí va la imagen del cuaderno"
      ],
      "metadata": {
        "id": "x0nDfqbkPMYx"
      }
    },
    {
      "cell_type": "code",
      "source": [
        "#Aqui el codigo"
      ],
      "metadata": {
        "id": "lfOeVIxOJsbj"
      },
      "execution_count": null,
      "outputs": []
    },
    {
      "cell_type": "markdown",
      "source": [
        "### 4)\tDe 162 vendedores ambulantes, 60 venden camisas y blusas, 40 camisas y pañuelos, 50 blusas y pañuelos, 42 venden solo una clase de dichas prendas.\n",
        "\n",
        "Contestar\n",
        "\n",
        "a)\t¿Cuántos ambulantes venden por lo menos tres tipos de prendas mencionadas?\n",
        "\n",
        "b)\tRepresenta este problema mediante un Diagrama de Venn\n"
      ],
      "metadata": {
        "id": "6dwypHJfHcp1"
      }
    },
    {
      "cell_type": "markdown",
      "source": [
        "###Aquí va la imagen del cuaderno"
      ],
      "metadata": {
        "id": "HuCzCO89PN5n"
      }
    },
    {
      "cell_type": "code",
      "source": [
        "#Aqui el codigo"
      ],
      "metadata": {
        "id": "ZTafGNrsJtPD"
      },
      "execution_count": null,
      "outputs": []
    },
    {
      "cell_type": "markdown",
      "source": [
        "### 5)\tun grupo de grupo de 40 personas se sabe que, 15 de ellos no estudian ni trabajan, 10 personas estudian, y tres personas estudian y trabajan.\n",
        "\n",
        "Contestar\n",
        "\n",
        "a)\tCalcular la cantidad de personas que estudian o trabajan.\n",
        "\n",
        "b)\tCalcular la cantidad de personas que solo estudian.\n",
        "\n",
        "c)\tCalcular la cantidad de personas que solo trabajan.\n",
        "\n",
        "d)\t¿Cuántos realizan solo una de las dos actividades?\n",
        "\n",
        "e)\tRepresenta este problema mediante un Diagrama de Venn\n",
        "\n"
      ],
      "metadata": {
        "id": "wpaTpfLgHdrj"
      }
    },
    {
      "cell_type": "markdown",
      "source": [
        "###Aquí va la imagen del cuaderno"
      ],
      "metadata": {
        "id": "4KTWZtcePPRN"
      }
    },
    {
      "cell_type": "code",
      "source": [
        "#Aqui el codigo"
      ],
      "metadata": {
        "id": "U9WdKPDPJt_x"
      },
      "execution_count": null,
      "outputs": []
    },
    {
      "cell_type": "markdown",
      "source": [
        "### 6)\tEn la cocina de un restaurante, existen utensilios como tenedores, cuchillos y cucharas. El equipo de lavado de utensilios informó que lavaron 150 tenedores, 120 cuchillos y 200 cucharas. Por otro lado, el equipo de almacenamiento reportó que en el almacén existen 350 tenedores, 100 cuchillos y 300 cucharas. Debemos resolver varias cuestiones:\n",
        "\n",
        "Contestar\n",
        "\n",
        "a)\t¿Cuántos conjuntos están presentes en este problema?\n",
        "\n",
        "b)\t¿Cuál es la cardinalidad del Universo?\n",
        "\n",
        "c)\t¿Cuántos utensilios han sido lavados?\n",
        "\n",
        "d)\t¿Cuántos tenedores hay?\n",
        "\n",
        "e)\tRepresenta este problema mediante un Diagrama de Venn.\n"
      ],
      "metadata": {
        "id": "p8RQDvJLHelL"
      }
    },
    {
      "cell_type": "markdown",
      "source": [
        "###Aquí va la imagen del cuaderno"
      ],
      "metadata": {
        "id": "jmEUxhB_PQeB"
      }
    },
    {
      "cell_type": "markdown",
      "source": [
        "### 7)\tEn un aula, hay un cierto número de alumnos que estudian Matemáticas, Física y Química. Tenemos la siguiente información:\n",
        "\n",
        "•\t50 estudian Matemáticas\n",
        "\n",
        "•\t50 estudian Física\n",
        "\n",
        "•\t50 estudian Química\n",
        "\n",
        "•\t38 estudian Matemáticas y Física\n",
        "\n",
        "•\t40 estudian Matemáticas y Química\n",
        "\n",
        "•\t35 estudian Física y Química\n",
        "\n",
        "•\t28 las 3 asignaturas\n",
        "\n",
        "Contestar:\n",
        "\n",
        "a)\t¿Cuántos alumnos hay en total?\n",
        "\n",
        "b)\t¿Cuántos Matemáticas y Física, pero no Química?\n",
        "\n",
        "c)\t¿Cuántos estudian nada más Química?\n",
        "\n",
        "d)\t¿Cuántos estudian nada más matemáticas?\n",
        "\n",
        "e)\tRepresenta este problema mediante un Diagrama de Venn.\n",
        "\n"
      ],
      "metadata": {
        "id": "sQRFdv9oHfPO"
      }
    },
    {
      "cell_type": "markdown",
      "source": [
        "###Aquí va la imagen del cuaderno"
      ],
      "metadata": {
        "id": "ON3FwyJ6PRdQ"
      }
    },
    {
      "cell_type": "code",
      "source": [
        "#Aqui el codigo"
      ],
      "metadata": {
        "id": "YBXQuUUnJwKz"
      },
      "execution_count": null,
      "outputs": []
    },
    {
      "cell_type": "markdown",
      "source": [
        "##Para representar los diagramas de veen pueden utilizar cualquiera de los siguientes codigos tanto para grupos de 2, 3 y grupos de 4\n",
        "##Deben Poner y correr el codigo debajo de cada punto con los datos de los resultados para graficarlo."
      ],
      "metadata": {
        "id": "yoaBW5cDITMk"
      }
    },
    {
      "cell_type": "code",
      "source": [
        "#Codigo de 2 conjuntos\n",
        "from matplotlib_venn.layout.venn2 import DefaultLayoutAlgorithm\n",
        "venn2((20,2,3), layout_algorithm=DefaultLayoutAlgorithm(fixed_subset_sizes=(1,1,1)))\n"
      ],
      "metadata": {
        "id": "Rs62vCtWJHEY"
      },
      "execution_count": null,
      "outputs": []
    },
    {
      "cell_type": "code",
      "source": [
        "#Código de 3 conjuntos\n",
        "from matplotlib_venn.layout.venn3 import DefaultLayoutAlgorithm\n",
        "venn3((7,6,5,4,3,2,1), layout_algorithm=DefaultLayoutAlgorithm(fixed_subset_sizes=(1,1,1,1,1,1,1)))"
      ],
      "metadata": {
        "id": "l1n1fjqaJOw8"
      },
      "execution_count": null,
      "outputs": []
    },
    {
      "cell_type": "code",
      "source": [
        "#Código para 4 conjuntos.\n",
        "import matplotlib.pyplot as plt\n",
        "import matplotlib.patches as patches\n",
        "\n",
        "# Crear figura\n",
        "fig, ax = plt.subplots(figsize=(8, 8))\n",
        "\n",
        "# Dibujar círculos\n",
        "circle_A = patches.Circle((1, 2), 1, edgecolor='blue', facecolor='none', lw=2)\n",
        "circle_B = patches.Circle((2, 4), 1, edgecolor='green', facecolor='none', lw=2)\n",
        "circle_C = patches.Circle((4, 2), 1, edgecolor='red', facecolor='none', lw=2)\n",
        "circle_D = patches.Circle((2.5, 2.5), 2, edgecolor='purple', facecolor='none', lw=2)\n",
        "\n",
        "for circle in [circle_A, circle_B, circle_C, circle_D]:\n",
        "    ax.add_patch(circle)\n",
        "\n",
        "# Definimos los conjuntos ACA PONER LOS DATOS.\n",
        "A = {1, 2}\n",
        "B = {3, 4}\n",
        "C = {5, 6}\n",
        "D = {2, 4, 6, 7}\n",
        "\n",
        "# Elementos exclusivos de cada conjunto (fuera de D)\n",
        "solo_A = A - D\n",
        "solo_B = B - D\n",
        "solo_C = C - D\n",
        "solo_D = D - (A | B | C)\n",
        "\n",
        "# Elementos en intersección de cada conjunto con D\n",
        "interseccion_A_D = A & D\n",
        "interseccion_B_D = B & D\n",
        "interseccion_C_D = C & D\n",
        "\n",
        "# Agregar etiquetas de los conjuntos\n",
        "plt.text(0.5, 2.8, 'A', fontsize=14, color='blue')\n",
        "plt.text(2, 5, 'B', fontsize=14, color='green')\n",
        "plt.text(4.5, 2.8, 'C', fontsize=14, color='red')\n",
        "plt.text(2.3, 2.3, 'D', fontsize=16, color='purple')\n",
        "\n",
        "# Agregar elementos de cada conjunto\n",
        "# Elementos solo en A\n",
        "for i, elem in enumerate(solo_A):\n",
        "    plt.text(0.3, 1.5 - 0.3*i, str(elem), fontsize=12, color='blue')\n",
        "\n",
        "# Elementos solo en B\n",
        "for i, elem in enumerate(solo_B):\n",
        "    plt.text(1.7, 4.5 - 0.3*i, str(elem), fontsize=12, color='green')\n",
        "\n",
        "# Elementos solo en C\n",
        "for i, elem in enumerate(solo_C):\n",
        "    plt.text(4.5, 1.4 - 0.3*i, str(elem), fontsize=12, color='red')\n",
        "\n",
        "# Elementos de D solos\n",
        "for i, elem in enumerate(solo_D):\n",
        "    plt.text(2.2, 2 - 0.3*i, str(elem), fontsize=12, color='purple')\n",
        "\n",
        "# Elementos en la intersección A ∩ D\n",
        "for i, elem in enumerate(interseccion_A_D):\n",
        "    plt.text(0.9, 2.5 - 0.3*i, str(elem), fontsize=12, color='black')\n",
        "\n",
        "# Elementos en la intersección B ∩ D\n",
        "for i, elem in enumerate(interseccion_B_D):\n",
        "    plt.text(2.3, 3.5 - 0.3*i, str(elem), fontsize=12, color='black')\n",
        "\n",
        "# Elementos en la intersección C ∩ D\n",
        "for i, elem in enumerate(interseccion_C_D):\n",
        "    plt.text(3.7, 2.2 - 0.3*i, str(elem), fontsize=12, color='black')\n",
        "\n",
        "# Configurar límites del gráfico\n",
        "ax.set_xlim(-1, 6)\n",
        "ax.set_ylim(-1, 6)\n",
        "ax.set_aspect('equal')\n",
        "ax.axis('off')  # Ocultar ejes\n",
        "\n",
        "plt.title('Diagrama de 4 conjuntos (A, B, C, D) con elementos')\n",
        "plt.show()\n"
      ],
      "metadata": {
        "id": "oefsxcgnsYNW"
      },
      "execution_count": null,
      "outputs": []
    }
  ]
}